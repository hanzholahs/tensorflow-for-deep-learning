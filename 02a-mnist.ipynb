{
 "cells": [
  {
   "attachments": {},
   "cell_type": "markdown",
   "metadata": {},
   "source": []
  },
  {
   "cell_type": "code",
   "execution_count": null,
   "metadata": {},
   "outputs": [],
   "source": [
    "# import libraries\n",
    "import numpy as np\n",
    "from tensorflow.keras.datasets import mnist\n",
    "from tensorflow.keras.utils import to_categorical\n",
    "from tensorflow.keras import models, layers, optimizers, backend"
   ]
  },
  {
   "cell_type": "code",
   "execution_count": null,
   "metadata": {},
   "outputs": [],
   "source": [
    "# load dataset\n",
    "(train_images, train_labels), (test_images, test_labels) = mnist.load_data()\n",
    "\n",
    "train_labels = to_categorical(train_labels)\n",
    "test_labels = to_categorical(test_labels)\n",
    "\n",
    "# transform image data\n",
    "train_images = train_images.reshape((60000, 28 * 28)) / 255\n",
    "test_images = test_images.reshape((10000, 28 * 28)) / 255\n",
    "\n",
    "train_images.shape, train_labels.shape, test_images.shape, test_labels.shape"
   ]
  },
  {
   "cell_type": "code",
   "execution_count": null,
   "metadata": {},
   "outputs": [],
   "source": [
    "def explore(train_images, \n",
    "            train_labels, \n",
    "            test_images, \n",
    "            test_labels,\n",
    "            label_count,\n",
    "            neuron_count,\n",
    "            learning_rate,\n",
    "            momentum):\n",
    "\n",
    "    # define ann architecture\n",
    "    model = models.Sequential()\n",
    "    model.add(layers.Dense(neuron_count, activation = \"relu\", input_shape = (28 * 28,)))\n",
    "    model.add(layers.Dense(label_count, activation = \"softmax\"))\n",
    "\n",
    "    # define optimizer, loss function, and metrics\n",
    "    optimizer = optimizers.RMSprop(learning_rate = learning_rate, momentum = momentum)\n",
    "\n",
    "    model.compile(optimizer = optimizer,\n",
    "                  loss = \"categorical_crossentropy\",\n",
    "                  metrics = [\"accuracy\"])\n",
    "\n",
    "    # train ann model\n",
    "    history = model.fit(train_images, train_labels, epochs = 20, batch_size = 64, verbose = 0)\n",
    "\n",
    "    # evaluate ann model\n",
    "    test_loss, test_acc = model.evaluate(test_images, test_labels, verbose = 0)\n",
    "\n",
    "    return history, test_loss, test_acc"
   ]
  },
  {
   "cell_type": "code",
   "execution_count": null,
   "metadata": {},
   "outputs": [],
   "source": [
    "# set hyperparameters\n",
    "learning_rates = np.logspace(-1, -4, 5)\n",
    "momentums = np.logspace(-1, -4, 5)\n",
    "neuron_counts = 2 ** np.arange(7, 12)\n",
    "\n",
    "hyparameters_list = []\n",
    "for learning_rate in learning_rates:\n",
    "    for momentum in momentums:\n",
    "        for neuron_count in neuron_counts:\n",
    "            hyparameters_list.append({\n",
    "                \"learning_rate\": learning_rate,\n",
    "                \"momentum\": momentum,\n",
    "                \"neuron_count\": neuron_count\n",
    "            })"
   ]
  },
  {
   "cell_type": "code",
   "execution_count": null,
   "metadata": {},
   "outputs": [],
   "source": [
    "output = []\n",
    "for hyparameters in hyparameters_list:\n",
    "    history, test_loss, test_acc = explore(\n",
    "        train_images,\n",
    "        train_labels,\n",
    "        test_images,\n",
    "        test_labels,\n",
    "        label_count = 10,\n",
    "        learning_rate = hyparameters[\"learning_rate\"],\n",
    "        momentum = hyparameters[\"momentum\"],\n",
    "        neuron_count = hyparameters[\"neuron_count\"]\n",
    "    )\n",
    "    \n",
    "    output.append({\n",
    "        \"history\": history,\n",
    "        \"test_loss\": test_loss, \n",
    "        \"test_acc\": test_acc,\n",
    "        \"hyperparameters\": hyparameters\n",
    "    })\n",
    "    backend.clear_session()\n",
    "\n",
    "    print(f\"A model is trained with hyperparameters of {hyparameters}\")"
   ]
  },
  {
   "cell_type": "code",
   "execution_count": null,
   "metadata": {},
   "outputs": [],
   "source": []
  }
 ],
 "metadata": {
  "kernelspec": {
   "display_name": "main",
   "language": "python",
   "name": "python3"
  },
  "language_info": {
   "codemirror_mode": {
    "name": "ipython",
    "version": 3
   },
   "file_extension": ".py",
   "mimetype": "text/x-python",
   "name": "python",
   "nbconvert_exporter": "python",
   "pygments_lexer": "ipython3",
   "version": "3.9.16"
  },
  "vscode": {
   "interpreter": {
    "hash": "1276247cfa5c9ee4636cf367496103f29036e30efa859b5123807facee62d98b"
   }
  }
 },
 "nbformat": 4,
 "nbformat_minor": 2
}
