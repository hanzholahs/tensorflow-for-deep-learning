{
 "cells": [
  {
   "cell_type": "code",
   "execution_count": 1,
   "metadata": {},
   "outputs": [],
   "source": [
    "import tensorflow as tf\n",
    "import numpy as np"
   ]
  },
  {
   "cell_type": "code",
   "execution_count": 2,
   "metadata": {},
   "outputs": [],
   "source": [
    "class NaiveDense:\n",
    "    def __init__(self, input_size, output_size, activation):\n",
    "        self.activation = activation\n",
    "\n",
    "        w_shape = (input_size, output_size)\n",
    "        w_initial_value = tf.random.uniform(w_shape, minval = -1e-1, maxval = 1e-1)\n",
    "        self.W = tf.Variable(w_initial_value)\n",
    "        b_shape = (output_size,)\n",
    "        b_initial_value = tf.zeros(b_shape)\n",
    "        self.b = tf.Variable(b_initial_value)\n",
    "\n",
    "    def __call__(self, inputs):\n",
    "        return self.activation(tf.matmul(inputs, self.W) + self.b)\n",
    "\n",
    "    @property\n",
    "    def weights(self):\n",
    "        return [self.W, self.b]\n",
    "\n",
    "class NaiveSequential:\n",
    "    def __init__(self, layers):\n",
    "        self.layers = layers\n",
    "\n",
    "    def __call__(self, inputs):\n",
    "        x = inputs\n",
    "        for layer in self.layers:\n",
    "            x = layer(x)\n",
    "        return x\n",
    "\n",
    "    @property\n",
    "    def weights(self):\n",
    "        weights = []\n",
    "        for layer in self.layers:\n",
    "            weights += layer.weights\n",
    "        return weights"
   ]
  },
  {
   "cell_type": "code",
   "execution_count": 3,
   "metadata": {},
   "outputs": [],
   "source": [
    "class BatchGenerator:\n",
    "    def __init__(self, images, labels, batch_size = 128):\n",
    "        assert len(images) == len(labels)\n",
    "        self.index = 0\n",
    "        self.images = images\n",
    "        self.labels = labels\n",
    "        self.batch_size = batch_size\n",
    "        self.num_batches = np.ceil(len(images) / batch_size).astype(int)\n",
    "\n",
    "    def next(self):\n",
    "        images = self.images[self.batch_size * self.index:self.batch_size * (self.index + 1)]\n",
    "        labels = self.labels[self.batch_size * self.index:self.batch_size * (self.index + 1)]\n",
    "        self.index += 1\n",
    "        return images, labels"
   ]
  },
  {
   "cell_type": "code",
   "execution_count": 4,
   "metadata": {},
   "outputs": [],
   "source": [
    "def update_weights(gradients, weights, learning_rate = 1e-3):\n",
    "    for g, w in zip(gradients, weights):\n",
    "        w.assign_sub(g * learning_rate)\n",
    "\n",
    "def update_weights2(gradients, weights, learning_rate = 1e-3):\n",
    "    optimizer = tf.keras.optimizers.SGD(learning_rate)\n",
    "    optimizer.apply_gradient(zip(gradients, weights))\n",
    "\n",
    "def one_step_training(model, image_batch, label_batch):\n",
    "    with tf.GradientTape() as tape:\n",
    "        prediction = model(image_batch)\n",
    "        per_sample_losses = tf.keras.losses.sparse_categorical_crossentropy(\n",
    "            label_batch, prediction\n",
    "        )\n",
    "        average_loss = tf.reduce_mean(per_sample_losses)\n",
    "    gradients = tape.gradient(average_loss, model.weights)   \n",
    "    update_weights(gradients, model.weights) \n",
    "    return average_loss\n",
    "\n",
    "def fit(model, images, labels, epochs, batch_size = 128):\n",
    "    for epoch in range(epochs):\n",
    "        print(f\"epoch: {epoch}\")\n",
    "        batch_generator = BatchGenerator(images, labels, batch_size)\n",
    "        for batch_number in range(batch_generator.num_batches):\n",
    "            image_batch, label_batch = batch_generator.next()\n",
    "            loss = one_step_training(model, image_batch, label_batch)\n",
    "            if batch_number % 100 == 0:\n",
    "                print(f\"loss at batch {batch_number}: {loss:.2f}\")"
   ]
  },
  {
   "cell_type": "code",
   "execution_count": 5,
   "metadata": {},
   "outputs": [],
   "source": [
    "model = NaiveSequential([\n",
    "    NaiveDense(input_size = 28*28, output_size = 512, activation = tf.nn.relu),\n",
    "    NaiveDense(input_size = 512, output_size = 10, activation = tf.nn.softmax)\n",
    "])"
   ]
  },
  {
   "cell_type": "code",
   "execution_count": 6,
   "metadata": {},
   "outputs": [
    {
     "name": "stdout",
     "output_type": "stream",
     "text": [
      "epoch: 0\n",
      "loss at batch 0: 2.47\n",
      "loss at batch 100: 2.22\n",
      "loss at batch 200: 2.00\n",
      "loss at batch 300: 1.86\n",
      "loss at batch 400: 1.81\n",
      "epoch: 1\n",
      "loss at batch 0: 1.69\n",
      "loss at batch 100: 1.68\n",
      "loss at batch 200: 1.49\n",
      "loss at batch 300: 1.44\n",
      "loss at batch 400: 1.43\n",
      "epoch: 2\n",
      "loss at batch 0: 1.31\n",
      "loss at batch 100: 1.35\n",
      "loss at batch 200: 1.16\n",
      "loss at batch 300: 1.16\n",
      "loss at batch 400: 1.18\n",
      "epoch: 3\n",
      "loss at batch 0: 1.06\n",
      "loss at batch 100: 1.12\n",
      "loss at batch 200: 0.95\n",
      "loss at batch 300: 0.98\n",
      "loss at batch 400: 1.01\n",
      "epoch: 4\n",
      "loss at batch 0: 0.90\n",
      "loss at batch 100: 0.96\n",
      "loss at batch 200: 0.80\n",
      "loss at batch 300: 0.85\n",
      "loss at batch 400: 0.90\n",
      "<class 'tensorflow.python.framework.ops.EagerTensor'>\n",
      "accuracy: 0.83\n"
     ]
    }
   ],
   "source": [
    "(train_images, train_labels), (test_images, test_labels) = tf.keras.datasets.mnist.load_data()\n",
    "\n",
    "train_images = train_images.reshape(60000, -1).astype(\"float32\") / 255\n",
    "test_images = test_images.reshape(10000, -1).astype(\"float32\") / 255\n",
    "\n",
    "fit(model, train_images, train_labels, epochs = 5, batch_size = 128)\n",
    "\n",
    "predictions = model(test_images)\n",
    "print(type(predictions))\n",
    "predictions = predictions.numpy()\n",
    "predictions = np.argmax(predictions, axis = 1)\n",
    "matches = predictions == test_labels\n",
    "\n",
    "print(f\"accuracy: {matches.mean():.2f}\")"
   ]
  }
 ],
 "metadata": {
  "kernelspec": {
   "display_name": "main",
   "language": "python",
   "name": "python3"
  },
  "language_info": {
   "codemirror_mode": {
    "name": "ipython",
    "version": 3
   },
   "file_extension": ".py",
   "mimetype": "text/x-python",
   "name": "python",
   "nbconvert_exporter": "python",
   "pygments_lexer": "ipython3",
   "version": "3.9.16"
  },
  "orig_nbformat": 4,
  "vscode": {
   "interpreter": {
    "hash": "1276247cfa5c9ee4636cf367496103f29036e30efa859b5123807facee62d98b"
   }
  }
 },
 "nbformat": 4,
 "nbformat_minor": 2
}
