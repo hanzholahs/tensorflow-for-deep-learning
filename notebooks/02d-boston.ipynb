{
 "cells": [
  {
   "attachments": {},
   "cell_type": "raw",
   "metadata": {},
   "source": [
    "---\n",
    "title: \"Boston Housing\"\n",
    "---"
   ]
  },
  {
   "cell_type": "code",
   "execution_count": null,
   "metadata": {},
   "outputs": [],
   "source": [
    "# import libraries\n",
    "import matplotlib.pyplot as plt\n",
    "import numpy as np\n",
    "from sklearn.linear_model import LinearRegression\n",
    "from sklearn.metrics import mean_squared_error, mean_absolute_error\n",
    "from sklearn.base import clone\n",
    "from tensorflow.keras.datasets import boston_housing\n",
    "from tensorflow.keras import models, layers, backend"
   ]
  },
  {
   "cell_type": "code",
   "execution_count": null,
   "metadata": {},
   "outputs": [],
   "source": [
    "# load dataset\n",
    "(X_train, y_train), (X_test, y_test) = boston_housing.load_data()\n",
    "\n",
    "X_train.shape, y_train.shape, X_test.shape, y_test.shape"
   ]
  },
  {
   "cell_type": "code",
   "execution_count": null,
   "metadata": {},
   "outputs": [],
   "source": [
    "# rescale and shift data based on training set\n",
    "transform_mean = np.mean(X_train)\n",
    "transform_std  = np.std(X_train, ddof = 1)\n",
    "\n",
    "X_train -= transform_mean\n",
    "X_train /= transform_std\n",
    "\n",
    "X_test -= transform_mean\n",
    "X_test /= transform_std"
   ]
  },
  {
   "cell_type": "code",
   "execution_count": null,
   "metadata": {},
   "outputs": [],
   "source": [
    "model_nn = models.Sequential()\n",
    "model_nn.add(layers.Dense(128, activation = \"relu\", input_shape = (13,)))\n",
    "model_nn.add(layers.Dense(128, activation = \"relu\"))\n",
    "model_nn.add(layers.Dense(128, activation = \"relu\"))\n",
    "model_nn.add(layers.Dense(1))\n",
    "model_nn.compile(optimizer = \"adam\", loss = \"mse\", metrics = [\"mae\", \"mse\"])\n",
    "\n",
    "initial_weight_nn = model_nn.get_weights()"
   ]
  },
  {
   "cell_type": "code",
   "execution_count": null,
   "metadata": {},
   "outputs": [],
   "source": [
    "model_nn_reg = models.Sequential()\n",
    "model_nn_reg.add(layers.Dense(64, activation = \"relu\", input_shape = (13,)))\n",
    "model_nn_reg.add(layers.Dropout(0.3))\n",
    "model_nn_reg.add(layers.Dense(64, activation = \"relu\", kernel_regularizer='l1_l2'))\n",
    "model_nn_reg.add(layers.Dropout(0.3))\n",
    "model_nn_reg.add(layers.Dense(64, activation = \"relu\", kernel_regularizer='l1_l2'))\n",
    "model_nn_reg.add(layers.Dropout(0.3))\n",
    "model_nn_reg.add(layers.Dense(1))\n",
    "\n",
    "model_nn_reg.compile(optimizer = \"adam\", loss = \"mse\", metrics = [\"mae\", \"mse\"])\n",
    "initial_weight_nn_reg = model_nn_reg.get_weights()"
   ]
  },
  {
   "cell_type": "code",
   "execution_count": null,
   "metadata": {},
   "outputs": [],
   "source": [
    "lm_base = LinearRegression()"
   ]
  },
  {
   "cell_type": "code",
   "execution_count": null,
   "metadata": {},
   "outputs": [],
   "source": [
    "indices = np.arange(len(X_train))\n",
    "np.random.seed(123)\n",
    "np.random.shuffle(indices)\n",
    "\n",
    "k_fold = 5\n",
    "sample_size = np.ceil(len(X_train) / k_fold).astype(int)"
   ]
  },
  {
   "cell_type": "code",
   "execution_count": null,
   "metadata": {},
   "outputs": [],
   "source": [
    "mse_nn, mse_nn_reg, mse_lm = [], [], []\n",
    "mae_nn, mae_nn_reg, mae_lm = [], [], []\n",
    "\n",
    "for i in range(k_fold):\n",
    "    # configure model with exact parameters\n",
    "    model_lm = clone(lm_base)\n",
    "    model_nn.set_weights(initial_weight_nn)\n",
    "    model_nn_reg.set_weights(initial_weight_nn_reg)\n",
    "\n",
    "    # split into partial_train and validation\n",
    "    id_start, id_end = i * sample_size, (i+1) * sample_size\n",
    "\n",
    "    mask_train = np.concatenate((indices[:id_start], indices[id_end:]))\n",
    "    mask_val   = indices[id_start:id_end]\n",
    "\n",
    "    X_val = X_train[mask_val]\n",
    "    y_val = y_train[mask_val]\n",
    "    partial_X_train = X_train[mask_train]\n",
    "    partial_y_train = y_train[mask_train]\n",
    "\n",
    "    # fit and predict\n",
    "    model_lm.fit(partial_X_train, partial_y_train)\n",
    "    model_nn.fit(partial_X_train, partial_y_train, epochs = 500, verbose = 0)\n",
    "    model_nn_reg.fit(partial_X_train, partial_y_train, epochs = 500, verbose = 0)\n",
    "\n",
    "    y_pred_lm = model_lm.predict(X_val)\n",
    "    y_pred_nn = model_nn.predict(X_val, verbose = 0)\n",
    "    y_pred_nn_reg = model_nn_reg.predict(X_val, verbose = 0)\n",
    "\n",
    "    # save results\n",
    "    mse_nn.append(mean_squared_error(y_val, y_pred_nn))\n",
    "    mse_nn_reg.append(mean_squared_error(y_val, y_pred_nn_reg))\n",
    "    mse_lm.append(mean_squared_error(y_val, y_pred_lm))\n",
    "\n",
    "    mae_nn.append(mean_absolute_error(y_val, y_pred_nn))\n",
    "    mae_nn_reg.append(mean_absolute_error(y_val, y_pred_nn_reg))\n",
    "    mae_lm.append(mean_absolute_error(y_val, y_pred_lm))"
   ]
  },
  {
   "cell_type": "code",
   "execution_count": null,
   "metadata": {},
   "outputs": [],
   "source": [
    "print(f\"Avg MSE of Neral Network : {np.mean(mse_nn):.2f}\")\n",
    "print(f\"Avg MSE of NN Regulaized : {np.mean(mse_nn_reg):.2f}\")\n",
    "print(f\"Avg MSE of Linear Model  : {np.mean(mse_lm):.2f}\")"
   ]
  },
  {
   "cell_type": "code",
   "execution_count": null,
   "metadata": {},
   "outputs": [],
   "source": [
    "print(f\"Avg MAE of Neral Network : {np.mean(mae_nn):.2f}\")\n",
    "print(f\"Avg MAE of NN Regulaized : {np.mean(mae_nn_reg):.2f}\")\n",
    "print(f\"Avg MAE of Linear Model  : {np.mean(mae_lm):.2f}\")"
   ]
  }
 ],
 "metadata": {
  "kernelspec": {
   "display_name": "main",
   "language": "python",
   "name": "python3"
  },
  "language_info": {
   "codemirror_mode": {
    "name": "ipython",
    "version": 3
   },
   "file_extension": ".py",
   "mimetype": "text/x-python",
   "name": "python",
   "nbconvert_exporter": "python",
   "pygments_lexer": "ipython3",
   "version": "3.9.16"
  },
  "vscode": {
   "interpreter": {
    "hash": "1276247cfa5c9ee4636cf367496103f29036e30efa859b5123807facee62d98b"
   }
  }
 },
 "nbformat": 4,
 "nbformat_minor": 4
}
