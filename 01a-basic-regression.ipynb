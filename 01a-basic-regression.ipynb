{
 "cells": [
  {
   "cell_type": "code",
   "execution_count": 2,
   "metadata": {},
   "outputs": [],
   "source": [
    "import tensorflow as tf\n",
    "import numpy as np\n",
    "import matplotlib.pyplot as plt"
   ]
  },
  {
   "attachments": {},
   "cell_type": "markdown",
   "metadata": {},
   "source": [
    "$$\n",
    "y = 2  x_0 + 5.2  x_1 + \\epsilon\n",
    "$$"
   ]
  },
  {
   "cell_type": "code",
   "execution_count": 2,
   "metadata": {},
   "outputs": [],
   "source": [
    "X = np.random.normal(size = (1000, 2))\n",
    "y = 2 * X[:, 0] + 5.2 * X[:, 1] + np.random.normal(size = (1000,))\n",
    "\n",
    "X_train = X[:800]\n",
    "y_train = y[:800]\n",
    "X_test = X[800:]\n",
    "y_test = y[800:]"
   ]
  },
  {
   "cell_type": "code",
   "execution_count": 3,
   "metadata": {},
   "outputs": [
    {
     "name": "stdout",
     "output_type": "stream",
     "text": [
      "7/7 [==============================] - 0s 2ms/step - loss: 1.1128 - mse: 1.1128 - mae: 0.8465\n"
     ]
    },
    {
     "data": {
      "text/plain": [
       "[1.1127723455429077, 1.1127723455429077, 0.8464701771736145]"
      ]
     },
     "execution_count": 3,
     "metadata": {},
     "output_type": "execute_result"
    }
   ],
   "source": [
    "model = tf.keras.models.Sequential()\n",
    "model.add(tf.keras.layers.Dense(1, input_shape = (2, )))\n",
    "model.compile(optimizer = \"sgd\", loss = \"mse\", metrics = [\"mse\", \"mae\"])\n",
    "model.fit(X_train, y_train, epochs = 300, verbose = 0)\n",
    "model.evaluate(X_test, y_test)"
   ]
  },
  {
   "cell_type": "code",
   "execution_count": 4,
   "metadata": {},
   "outputs": [
    {
     "name": "stdout",
     "output_type": "stream",
     "text": [
      "7/7 [==============================] - 0s 3ms/step - loss: 1.1905 - mse: 1.1905 - mae: 0.8719\n"
     ]
    },
    {
     "data": {
      "text/plain": [
       "[1.1904633045196533, 1.1904633045196533, 0.871860146522522]"
      ]
     },
     "execution_count": 4,
     "metadata": {},
     "output_type": "execute_result"
    }
   ],
   "source": [
    "model = tf.keras.models.Sequential()\n",
    "model.add(tf.keras.layers.Dense(64, input_shape = (2, ), activation = \"relu\"))\n",
    "model.add(tf.keras.layers.Dense(64, activation = \"relu\"))\n",
    "model.add(tf.keras.layers.Dense(1))\n",
    "model.compile(optimizer = \"sgd\", loss = \"mse\", metrics = [\"mse\", \"mae\"])\n",
    "model.fit(X_train, y_train, epochs = 300, verbose = 0)\n",
    "model.evaluate(X_test, y_test)"
   ]
  },
  {
   "attachments": {},
   "cell_type": "markdown",
   "metadata": {},
   "source": [
    "$$\n",
    "y = 2  x_0 + 5.2  (x_1)^2 + \\epsilon\n",
    "$$"
   ]
  },
  {
   "cell_type": "code",
   "execution_count": 3,
   "metadata": {},
   "outputs": [],
   "source": [
    "X = np.random.normal(size = (1000, 2))\n",
    "y = 2 * X[:, 0] + 5.2 * X[:, 1] ** 2 + np.random.normal(size = (1000,))\n",
    "\n",
    "X_train = X[:800]\n",
    "y_train = y[:800]\n",
    "X_test = X[800:]\n",
    "y_test = y[800:]"
   ]
  },
  {
   "cell_type": "code",
   "execution_count": 6,
   "metadata": {},
   "outputs": [
    {
     "name": "stdout",
     "output_type": "stream",
     "text": [
      "7/7 [==============================] - 0s 2ms/step - loss: 44.0046 - mse: 44.0046 - mae: 4.7807\n"
     ]
    },
    {
     "data": {
      "text/plain": [
       "[44.004600524902344, 44.004600524902344, 4.780708312988281]"
      ]
     },
     "execution_count": 6,
     "metadata": {},
     "output_type": "execute_result"
    }
   ],
   "source": [
    "model = tf.keras.models.Sequential()\n",
    "model.add(tf.keras.layers.Dense(1, input_shape = (2, )))\n",
    "model.compile(optimizer = \"sgd\", loss = \"mse\", metrics = [\"mse\", \"mae\"])\n",
    "model.fit(X_train, y_train, epochs = 300, verbose = 0)\n",
    "model.evaluate(X_test, y_test)"
   ]
  },
  {
   "cell_type": "code",
   "execution_count": 7,
   "metadata": {},
   "outputs": [
    {
     "name": "stdout",
     "output_type": "stream",
     "text": [
      "7/7 [==============================] - 0s 4ms/step - loss: 1.1275 - mse: 1.1275 - mae: 0.8209\n"
     ]
    },
    {
     "data": {
      "text/plain": [
       "[1.1274707317352295, 1.1274707317352295, 0.8208972215652466]"
      ]
     },
     "execution_count": 7,
     "metadata": {},
     "output_type": "execute_result"
    }
   ],
   "source": [
    "model = tf.keras.models.Sequential()\n",
    "model.add(tf.keras.layers.Dense(64, input_shape = (2, ), activation = \"relu\"))\n",
    "model.add(tf.keras.layers.Dense(64, activation = \"relu\"))\n",
    "model.add(tf.keras.layers.Dense(1))\n",
    "model.compile(optimizer = \"sgd\", loss = \"mse\", metrics = [\"mse\", \"mae\"])\n",
    "model.fit(X_train, y_train, epochs = 300, verbose = 0)\n",
    "model.evaluate(X_test, y_test)"
   ]
  }
 ],
 "metadata": {
  "kernelspec": {
   "display_name": "main",
   "language": "python",
   "name": "python3"
  },
  "language_info": {
   "codemirror_mode": {
    "name": "ipython",
    "version": 3
   },
   "file_extension": ".py",
   "mimetype": "text/x-python",
   "name": "python",
   "nbconvert_exporter": "python",
   "pygments_lexer": "ipython3",
   "version": "3.9.16"
  },
  "orig_nbformat": 4,
  "vscode": {
   "interpreter": {
    "hash": "1276247cfa5c9ee4636cf367496103f29036e30efa859b5123807facee62d98b"
   }
  }
 },
 "nbformat": 4,
 "nbformat_minor": 2
}
